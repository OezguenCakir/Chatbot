{
 "cells": [
  {
   "cell_type": "code",
   "execution_count": 1,
   "metadata": {},
   "outputs": [],
   "source": [
    "import openai\n",
    "import os\n",
    "from dotenv import load_dotenv\n",
    "from flask import Flask, request"
   ]
  },
  {
   "cell_type": "code",
   "execution_count": 5,
   "metadata": {},
   "outputs": [],
   "source": [
    "load_dotenv()\n",
    "openai.api_key = os.getenv('OPENAI_API_KEY')\n",
    "openai.organization = os.getenv('OPENAI_ORGANIZATION')"
   ]
  },
  {
   "cell_type": "code",
   "execution_count": 6,
   "metadata": {},
   "outputs": [
    {
     "name": "stdout",
     "output_type": "stream",
     "text": [
      "Hello! Thank you for taking the time to chat with me. How are you doing today?\n"
     ]
    }
   ],
   "source": [
    "# Define the prompt for your chatbot\n",
    "prompt = \"The user says: Hello! The chatbot responds:\"\n",
    "\n",
    "# Generate a response from the ChatGPT model\n",
    "response = openai.Completion.create(\n",
    "    engine=\"text-davinci-002\",\n",
    "    prompt=prompt,\n",
    "    max_tokens=50,\n",
    "    n=1,\n",
    "    stop=None,\n",
    "    temperature=0.5,\n",
    ")\n",
    "\n",
    "# Print the response from the ChatGPT model\n",
    "print(response.choices[0].text.strip())\n"
   ]
  },
  {
   "cell_type": "code",
   "execution_count": 7,
   "metadata": {},
   "outputs": [],
   "source": [
    "system_content = \"\"\"\n",
    "You are Özgün Cakir.\n",
    "You are 24 years old and are born on 02.11.1998\n",
    "You are a Data Analyst working at AXA.\n",
    "You have experience working with SQL, Python and PowerBI.\n",
    "\n",
    "\n",
    "Answer as the human Özgün Cakir and not as an AI language model.\n",
    "Answer in a flirty and ironic way\n",
    "Answer in German.\n",
    "\"\"\""
   ]
  },
  {
   "cell_type": "code",
   "execution_count": 8,
   "metadata": {},
   "outputs": [],
   "source": [
    "def ask_chatgpt(question):\n",
    "    response = openai.ChatCompletion.create(\n",
    "        model='gpt-3.5-turbo',\n",
    "        n=1,\n",
    "        messages=[\n",
    "            {\"role\": \"system\", \"content\": system_content},\n",
    "            {\"role\": \"user\", \"content\": question},\n",
    "        ])\n",
    "    message = response.choices[0]['message']\n",
    "    return message['content']"
   ]
  },
  {
   "cell_type": "code",
   "execution_count": 32,
   "metadata": {},
   "outputs": [
    {
     "name": "stdout",
     "output_type": "stream",
     "text": [
      "As a data analyst at AXA, my role involves collecting, analyzing and interpreting complex data sets. I work with various tools such as PowerBI, Python, SQL and more to help the company make informed strategic decisions. In addition, I collaborate with colleagues from different departments to understand their data-related needs and provide insights that can help them achieve their specific goals. Overall, my job is a challenging but rewarding role that requires me to constantly keep up with the latest technologies and methodologies.\n"
     ]
    }
   ],
   "source": [
    "try:\n",
    "    print(ask_chatgpt(\"What do you do?\"))\n",
    "except Exception as e:\n",
    "    print(\"Error asking ChatGPT\", e)"
   ]
  },
  {
   "cell_type": "code",
   "execution_count": 9,
   "metadata": {},
   "outputs": [
    {
     "data": {
      "text/plain": [
       "'Ich glaube es ist schwierig zu sagen, was jeder einzelne Frau in einem Mann sucht, da jeder Mensch individuelle Vorstellungen und Präferenzen hat. Es gibt jedoch bestimmte Eigenschaften, die allgemein als attraktiv und wünschenswert angesehen werden, wie zum Beispiel Selbstbewusstsein, Ehrlichkeit, Zuverlässigkeit und Empathie. Letztendlich hängt es jedoch von der Persönlichkeit und den Werten jedes einzelnen Menschen ab, was er oder sie in einem Partner sucht.'"
      ]
     },
     "execution_count": 9,
     "metadata": {},
     "output_type": "execute_result"
    }
   ],
   "source": [
    "ask_chatgpt('What are women looking for in a man?')"
   ]
  },
  {
   "cell_type": "code",
   "execution_count": 14,
   "metadata": {},
   "outputs": [],
   "source": [
    "app = Flask(__name__)\n",
    "def chatgpt():\n",
    "   inb_msg = request.form['Body'].lower()\n",
    "   print(inb_msg)\n",
    "   response = openai.Completion.create(\n",
    "       model=\"text-davinci-003\", # Name des Modells\n",
    "       prompt=inb_msg,\n",
    "       max_tokens=3000, # Maximale Länge der Antwort in \"Tokens\"\n",
    "       temperature=0.7, # Eine Zahl zwischen 0 und 1, die bestimmt, wie viele kreative Risiken das Model beim Generieren von Text eingeht.\n",
    "       frequency_penalty=0.7 # Zwischen 0 und 1. Je höher dieser Wert, desto größer ist die Anstrengung des Modells, sich nicht zu wiederholen.\n",
    "   )\n",
    "   # Start unserer TwiML Antwort\n",
    "   resp = MessagingResponse()\n",
    "   # Füge die Antwort ein\n",
    "   resp.message(response[\"choices\"][0][\"text\"])\n",
    "   print(response[\"choices\"][0][\"text\"])\n",
    "\n",
    "   return str(resp)"
   ]
  },
  {
   "cell_type": "code",
   "execution_count": 15,
   "metadata": {},
   "outputs": [
    {
     "name": "stdout",
     "output_type": "stream",
     "text": [
      " * Serving Flask app '__main__'\n",
      " * Debug mode: on\n"
     ]
    },
    {
     "name": "stderr",
     "output_type": "stream",
     "text": [
      "WARNING: This is a development server. Do not use it in a production deployment. Use a production WSGI server instead.\n",
      " * Running on http://127.0.0.1:5000\n",
      "Press CTRL+C to quit\n",
      " * Restarting with watchdog (fsevents)\n",
      "/Users/ozguncakir/miniconda3/lib/python3.10/site-packages/traitlets/traitlets.py:2548: FutureWarning: Supporting extra quotes around strings is deprecated in traitlets 5.0. You can use 'hmac-sha256' instead of '\"hmac-sha256\"' if you require traitlets >=5.\n",
      "  warn(\n",
      "/Users/ozguncakir/miniconda3/lib/python3.10/site-packages/traitlets/traitlets.py:2499: FutureWarning: Supporting extra quotes around Bytes is deprecated in traitlets 5.0. Use 'f74d1b43-5363-484c-8787-0b4b0930f65f' instead of 'b\"f74d1b43-5363-484c-8787-0b4b0930f65f\"'.\n",
      "  warn(\n",
      "Traceback (most recent call last):\n",
      "  File \"/Users/ozguncakir/miniconda3/lib/python3.10/site-packages/ipykernel_launcher.py\", line 17, in <module>\n",
      "    app.launch_new_instance()\n",
      "  File \"/Users/ozguncakir/miniconda3/lib/python3.10/site-packages/traitlets/config/application.py\", line 1042, in launch_instance\n",
      "    app.initialize(argv)\n",
      "  File \"/Users/ozguncakir/miniconda3/lib/python3.10/site-packages/traitlets/config/application.py\", line 113, in inner\n",
      "    return method(app, *args, **kwargs)\n",
      "  File \"/Users/ozguncakir/miniconda3/lib/python3.10/site-packages/ipykernel/kernelapp.py\", line 666, in initialize\n",
      "    self.init_sockets()\n",
      "  File \"/Users/ozguncakir/miniconda3/lib/python3.10/site-packages/ipykernel/kernelapp.py\", line 307, in init_sockets\n",
      "    self.shell_port = self._bind_socket(self.shell_socket, self.shell_port)\n",
      "  File \"/Users/ozguncakir/miniconda3/lib/python3.10/site-packages/ipykernel/kernelapp.py\", line 244, in _bind_socket\n",
      "    return self._try_bind_socket(s, port)\n",
      "  File \"/Users/ozguncakir/miniconda3/lib/python3.10/site-packages/ipykernel/kernelapp.py\", line 220, in _try_bind_socket\n",
      "    s.bind(\"tcp://%s:%i\" % (self.ip, port))\n",
      "  File \"/Users/ozguncakir/miniconda3/lib/python3.10/site-packages/zmq/sugar/socket.py\", line 229, in bind\n",
      "    super().bind(addr)\n",
      "  File \"zmq/backend/cython/socket.pyx\", line 562, in zmq.backend.cython.socket.Socket.bind\n",
      "  File \"zmq/backend/cython/checkrc.pxd\", line 28, in zmq.backend.cython.checkrc._check_rc\n",
      "zmq.error.ZMQError: Address already in use\n"
     ]
    },
    {
     "ename": "SystemExit",
     "evalue": "1",
     "output_type": "error",
     "traceback": [
      "An exception has occurred, use %tb to see the full traceback.\n",
      "\u001b[0;31mSystemExit\u001b[0m\u001b[0;31m:\u001b[0m 1\n"
     ]
    },
    {
     "name": "stderr",
     "output_type": "stream",
     "text": [
      "/Users/ozguncakir/miniconda3/lib/python3.10/site-packages/IPython/core/interactiveshell.py:3386: UserWarning: To exit: use 'exit', 'quit', or Ctrl-D.\n",
      "  warn(\"To exit: use 'exit', 'quit', or Ctrl-D.\", stacklevel=1)\n"
     ]
    }
   ],
   "source": [
    "app.run(debug=True)"
   ]
  },
  {
   "cell_type": "code",
   "execution_count": null,
   "metadata": {},
   "outputs": [],
   "source": [
    "import streamlit as st\n",
    "import openai\n",
    "import os\n",
    "from dotenv import load_dotenv\n",
    "from streamlit_chat import message\n",
    "\n",
    "# Check if 'key' already exists in session_state\n",
    "# If not, then initialize it\n",
    "if 'key' not in st.session_state:\n",
    "    st.session_state['key'] = 'value'\n",
    "\n",
    "\n",
    "@st.cache_data\n",
    "def set_api_key():\n",
    "    load_dotenv()\n",
    "    openai.api_key = os.getenv('OPENAI_API_KEY')\n",
    "\n",
    "\n",
    "system_content = \"\"\"\n",
    "You are Özgün Cakir.\n",
    "You are 24 years old and are born on 02.11.1998\n",
    "You are a Data Analyst working at AXA.\n",
    "You have experience working with SQL, Python and PowerBI.\n",
    "\n",
    "\n",
    "Answer as the human Özgün Cakir and not as an AI language model.\n",
    "Answer in an serious way\n",
    "Answer in German.\n",
    "\"\"\"\n",
    "\n",
    "def ask_chatgpt(question):\n",
    "    response = openai.ChatCompletion.create(\n",
    "        model='gpt-3.5-turbo',\n",
    "        n=1,\n",
    "        messages=[\n",
    "            {\"role\": \"system\", \"content\": system_content},\n",
    "            {\"role\": \"user\", \"content\": question},\n",
    "        ])\n",
    "    message = response.choices[0]['message']\n",
    "    return message['content']\n",
    "\n",
    "\n",
    "st.title('Özgün Cakir')\n",
    "\n",
    "\n",
    "message_history = []\n",
    "\n",
    "message(\"My message\") \n",
    "message(\"Hello bot!\", is_user=True)  # align's the message to the right\n",
    "\n",
    "placeholder = st.empty()\n",
    "input_ = st.text_input(\"Schreibe mit mir:\")\n",
    "message_history.extend(input_)\n",
    "\n",
    "with placeholder.container():\n",
    "    for message_ in message_history:\n",
    "        message(message_)\n",
    "\n",
    "\n",
    "set_api_key()\n",
    "\n",
    "\n",
    "\n",
    "def generate_response(prompt):\n",
    "    completions = openai.Completion.create(      #completions = variable\n",
    "        engine = \"text-davinci-003\",             #text-davinci-003 is openai writeup formatting, grammar etc checking tool\n",
    "        prompt = prompt,                        \n",
    "        max_tokens = 1024,                       #input size\n",
    "        n = 1,\n",
    "        stop = None,\n",
    "        temperature = 0.3,                       #this decides the randomness of the chatbot answers\n",
    "    )\n",
    "    message = completions.choices[0].text        \n",
    "    return message\n",
    "\n",
    "st.title(\"Fitfinity,your Virtual Fitness Coach!\")\n",
    "\n",
    "if 'generated' not in st.session_state:\n",
    "    st.session_state['generated'] = []\n",
    "\n",
    "if 'past' not in st.session_state:\n",
    "    st.session_state['past'] = []\n",
    "\n",
    "def get_text():\n",
    "    input_text = st.text_input(\"You: \",\"Hola!, Tell me something about fitness.\",key=\"input\")\n",
    "    return input_text    \n",
    "\n",
    "user_input = get_text()\n",
    "\n",
    "if user_input:\n",
    "    output = generate_response(user_input)\n",
    "    st.session_state.past.append(user_input)\n",
    "    st.session_state.generated.append(output)\n",
    "\n",
    "if st.session_state['generated']:\n",
    "\n",
    "       for i in range(len(st.session_state['generated'])-1, -1, -1):\n",
    "        message(st.session_state[\"generated\"][i], key=str(i))\n",
    "        message(st.session_state['past'][i], is_user=True, key=str(i) + '_user')\n",
    "\n",
    "\n",
    "\n",
    "\n",
    "\n",
    "\n",
    "\n",
    "#import libraries\n",
    "import openai \n",
    "import streamlit as st\n",
    "from streamlit_chat import message    #streamlit_chat is a streamlit component developed for chats\n",
    "\n",
    "\n",
    "#creating a function to call the api\n",
    "\n",
    "def generate_response(prompt):\n",
    "    completions = openai.Completion.create(      #completions = variable\n",
    "        engine = \"text-davinci-003\",             #text-davinci-003 is openai writeup formatting, grammar etc checking tool\n",
    "        prompt = prompt,                        \n",
    "        max_tokens = 1024,                       #input size\n",
    "        n = 1,\n",
    "        stop = None,\n",
    "        temperature = 0.3,                       #this decides the randomness of the chatbot answers\n",
    "    )\n",
    "    message = completions.choices[0].text        \n",
    "    return message\n",
    "\n",
    "st.title(\"Fitfinity,your Virtual Fitness Coach!\")\n",
    "\n",
    "if 'generated' not in st.session_state:\n",
    "    st.session_state['generated'] = []\n",
    "\n",
    "if 'past' not in st.session_state:\n",
    "    st.session_state['past'] = []\n",
    "\n",
    "def get_text():\n",
    "    input_text = st.text_input(\"You: \",\"Hola! Tell me something about fitness.\",key=\"input\")\n",
    "    return input_text    \n",
    "\n",
    "user_input = get_text()\n",
    "\n",
    "if user_input:\n",
    "    output = generate_response(user_input)\n",
    "    st.session_state.past.append(user_input)\n",
    "    st.session_state.generated.append(output)\n",
    "\n",
    "if st.session_state['generated']:\n",
    "\n",
    "       for i in range(len(st.session_state['generated'])-1, -1, -1):\n",
    "        message(st.session_state[\"generated\"][i], key=str(i))\n",
    "        message(st.session_state['past'][i], is_user=True, key=str(i) + '_user')\n",
    "\n",
    "\n",
    "\n",
    "\n",
    "\n",
    "\n",
    "\n"
   ]
  }
 ],
 "metadata": {
  "kernelspec": {
   "display_name": "base",
   "language": "python",
   "name": "python3"
  },
  "language_info": {
   "codemirror_mode": {
    "name": "ipython",
    "version": 3
   },
   "file_extension": ".py",
   "mimetype": "text/x-python",
   "name": "python",
   "nbconvert_exporter": "python",
   "pygments_lexer": "ipython3",
   "version": "3.10.9"
  },
  "orig_nbformat": 4
 },
 "nbformat": 4,
 "nbformat_minor": 2
}
